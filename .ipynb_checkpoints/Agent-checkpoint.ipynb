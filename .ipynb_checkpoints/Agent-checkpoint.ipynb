{
 "cells": [
  {
   "cell_type": "code",
   "execution_count": null,
   "id": "993a19c2-36c3-4dfc-a55c-86afdc5ff89b",
   "metadata": {},
   "outputs": [],
   "source": [
    "pip install langchain openai"
   ]
  },
  {
   "cell_type": "code",
   "execution_count": null,
   "id": "5bd20bd2-8a6d-4b92-bc1d-b00b46d85b21",
   "metadata": {},
   "outputs": [],
   "source": [
    "pip install langchain langchain_openai langchain_community openai serpapi python-dotenv"
   ]
  },
  {
   "cell_type": "code",
   "execution_count": null,
   "id": "d814e48e-cdf5-4c79-9f85-e5bd00630075",
   "metadata": {},
   "outputs": [],
   "source": [
    "# 创建一个基于 Langchain 的智能代理（agent），它能够通过调用工具和语言模型来回答问题。\n",
    "#具体地说，这个代码创建了一个能够理解并回答问题的系统，并使用了 OpenAI 的 GPT-3.5-turbo 模型来生成回答\n",
    "from langchain_openai import ChatOpenAI\n",
    "from langchain.agents import initialize_agent, AgentType\n",
    "from langchain_community.agent_toolkits.load_tools import load_tools\n",
    "from dotenv import load_dotenv\n",
    "\n",
    "# 加载环境变量\n",
    "load_dotenv()\n",
    "\n",
    "# 定义 LLM（语言模型）\n",
    "llm = ChatOpenAI(\n",
    "    temperature=0,\n",
    "    model=\"gpt-3.5-turbo\" \n",
    ")\n",
    "\n",
    "# 加载工具\n",
    "tools = load_tools([\"serpapi\", \"llm-math\"], llm=llm) \n",
    "\n",
    "# 初始化代理\n",
    "agent = initialize_agent(\n",
    "    tools,\n",
    "    llm,\n",
    "    agent_type=AgentType.ZERO_SHOT_REACT_DESCRIPTION,  # 代理类型\n",
    "    verbose=True  # 可选的，开启详细日志\n",
    ")\n",
    "\n",
    "# 你可以通过 agent 执行后续任务\n",
    "print(agent.run(\"请问美国总统叫什么？\"))"
   ]
  }
 ],
 "metadata": {
  "kernelspec": {
   "display_name": "Python 3 (ipykernel)",
   "language": "python",
   "name": "python3"
  },
  "language_info": {
   "codemirror_mode": {
    "name": "ipython",
    "version": 3
   },
   "file_extension": ".py",
   "mimetype": "text/x-python",
   "name": "python",
   "nbconvert_exporter": "python",
   "pygments_lexer": "ipython3",
   "version": "3.13.2"
  }
 },
 "nbformat": 4,
 "nbformat_minor": 5
}
